{
  "nbformat": 4,
  "nbformat_minor": 0,
  "metadata": {
    "colab": {
      "name": "LSTM-TrendAnalysis.ipynb",
      "provenance": [],
      "collapsed_sections": []
    },
    "kernelspec": {
      "name": "python3",
      "display_name": "Python 3"
    },
    "accelerator": "GPU"
  },
  "cells": [
    {
      "cell_type": "code",
      "metadata": {
        "id": "EvWXJIq8Vk04",
        "colab_type": "code",
        "colab": {}
      },
      "source": [
        "import keras\n",
        "import pandas as pd\n",
        "from keras.layers import Dense, LSTM, Dropout\n",
        "from keras.models import Sequential\n",
        "import numpy as np\n",
        "from keras.callbacks import EarlyStopping"
      ],
      "execution_count": 0,
      "outputs": []
    },
    {
      "cell_type": "code",
      "metadata": {
        "id": "w6SoiGMp4KaW",
        "colab_type": "code",
        "outputId": "be8efaf4-ae16-43cf-afc2-eff19e0ef76b",
        "colab": {
          "base_uri": "https://localhost:8080/",
          "height": 217
        }
      },
      "source": [
        "data=pd.read_csv(\"/content/processed_vehicle_accidents (1).csv\",parse_dates=['Date'])\n",
        "print(data.describe())\n"
      ],
      "execution_count": 0,
      "outputs": [
        {
          "output_type": "stream",
          "text": [
            "          Unnamed: 0        Unit_ID  ...  Vehicle_Owner_ID           Time\n",
            "count  233984.000000  233984.000000  ...      2.339840e+05  233984.000000\n",
            "mean   211815.208407    1187.454377  ...      2.016750e+09      14.348314\n",
            "std    119444.765264     602.771835  ...      1.322442e+06       4.410570\n",
            "min         0.000000      57.000000  ...      2.014000e+09       0.000000\n",
            "25%    110731.750000     727.000000  ...      2.016000e+09      11.000000\n",
            "50%    211979.500000    1206.000000  ...      2.017001e+09      14.000000\n",
            "75%    320773.250000    1761.000000  ...      2.018000e+09      18.000000\n",
            "max    410362.000000    2245.000000  ...      2.019007e+09      23.000000\n",
            "\n",
            "[8 rows x 5 columns]\n"
          ],
          "name": "stdout"
        }
      ]
    },
    {
      "cell_type": "code",
      "metadata": {
        "id": "29Xly5Z2JP6g",
        "colab_type": "code",
        "outputId": "29dccfb5-b679-47c4-ad82-3ea52a7d6d47",
        "colab": {
          "base_uri": "https://localhost:8080/",
          "height": 72
        }
      },
      "source": [
        "print(data.columns)\n",
        "data.drop(['Unnamed: 0', 'Unit_ID', 'Registration_Number', 'Crime_No',\n",
        "       'Vehicle_Owner_ID', 'DEDT'],inplace=True,axis=1)"
      ],
      "execution_count": 0,
      "outputs": [
        {
          "output_type": "stream",
          "text": [
            "Index(['Unnamed: 0', 'Unit_ID', 'Registration_Number', 'Crime_No',\n",
            "       'Vehicle_Owner_ID', 'DEDT', 'Time', 'Date'],\n",
            "      dtype='object')\n"
          ],
          "name": "stdout"
        }
      ]
    },
    {
      "cell_type": "code",
      "metadata": {
        "id": "i_RaFO9kITv5",
        "colab_type": "code",
        "outputId": "d77d4ee7-909e-41e9-c903-01715184b80f",
        "colab": {
          "base_uri": "https://localhost:8080/",
          "height": 272
        }
      },
      "source": [
        "a=data.sort_values('Date')\n",
        "print(a)\n",
        "#a.to_csv(\"a.csv\",index=True)"
      ],
      "execution_count": 0,
      "outputs": [
        {
          "output_type": "stream",
          "text": [
            "       Time       Date\n",
            "0        19 2014-01-01\n",
            "10089    11 2014-01-03\n",
            "10090    11 2014-01-03\n",
            "10091    18 2014-01-03\n",
            "11702    11 2014-01-04\n",
            "...     ...        ...\n",
            "29076    19 2019-11-12\n",
            "29077    20 2019-11-12\n",
            "29078    15 2019-11-12\n",
            "29080    19 2019-11-12\n",
            "29075    18 2019-11-12\n",
            "\n",
            "[233984 rows x 2 columns]\n"
          ],
          "name": "stdout"
        }
      ]
    },
    {
      "cell_type": "code",
      "metadata": {
        "id": "xD-t9DtVZcJJ",
        "colab_type": "code",
        "outputId": "69e59f42-d7db-4c06-ed4d-4d7eb30addcd",
        "colab": {
          "base_uri": "https://localhost:8080/",
          "height": 290
        }
      },
      "source": [
        "mydata=a.groupby(['Date','Time']).size()\n",
        "#print(mydata)\n",
        "abc=pd.DataFrame(mydata)\n",
        "print(abc)\n",
        "abc.to_csv(\"abc.csv\")"
      ],
      "execution_count": 0,
      "outputs": [
        {
          "output_type": "stream",
          "text": [
            "                 0\n",
            "Date       Time   \n",
            "2014-01-01 19    1\n",
            "2014-01-03 11    2\n",
            "           18    1\n",
            "2014-01-04 10    1\n",
            "           11    3\n",
            "...             ..\n",
            "2019-11-11 19    1\n",
            "2019-11-12 15    1\n",
            "           18    1\n",
            "           19    2\n",
            "           20    5\n",
            "\n",
            "[28158 rows x 1 columns]\n"
          ],
          "name": "stdout"
        }
      ]
    },
    {
      "cell_type": "code",
      "metadata": {
        "id": "GQ0rwoK9UeOd",
        "colab_type": "code",
        "outputId": "139ea38c-da6c-4c60-a939-ddd4a7a911cc",
        "colab": {
          "base_uri": "https://localhost:8080/",
          "height": 54
        }
      },
      "source": [
        "datab=pd.read_csv(\"abc.csv\",)\n",
        "print(datab.columns)\n",
        "datab.drop('Date',inplace=True,axis=1)\n",
        "print(datab.columns)"
      ],
      "execution_count": 0,
      "outputs": [
        {
          "output_type": "stream",
          "text": [
            "Index(['Date', 'Time', '0'], dtype='object')\n",
            "Index(['Time', '0'], dtype='object')\n"
          ],
          "name": "stdout"
        }
      ]
    },
    {
      "cell_type": "code",
      "metadata": {
        "id": "Js16D_8ykRv9",
        "colab_type": "code",
        "outputId": "5700ab61-2387-4751-989f-a9cd177319c3",
        "colab": {
          "base_uri": "https://localhost:8080/",
          "height": 35
        }
      },
      "source": [
        ""
      ],
      "execution_count": 0,
      "outputs": [
        {
          "output_type": "stream",
          "text": [
            "1\n"
          ],
          "name": "stdout"
        }
      ]
    },
    {
      "cell_type": "code",
      "metadata": {
        "id": "VkocmRgccbrA",
        "colab_type": "code",
        "outputId": "2acd9a7f-222b-422c-cc73-72ddcc4ab403",
        "colab": {
          "base_uri": "https://localhost:8080/",
          "height": 35
        }
      },
      "source": [
        "abcabc=datab['Time']\n",
        "abca=abcabc[1:5]\n",
        "print(abca.values)"
      ],
      "execution_count": 0,
      "outputs": [
        {
          "output_type": "stream",
          "text": [
            "[11 18 10 11]\n"
          ],
          "name": "stdout"
        }
      ]
    },
    {
      "cell_type": "code",
      "metadata": {
        "id": "My-B8R2VtyzM",
        "colab_type": "code",
        "colab": {}
      },
      "source": [
        "def split_training_test_data(X,Y,test_size):\n",
        "  index=int(len(X)*test_size)\n",
        "  trainx=X[:index]\n",
        "  trainy=Y[:index]\n",
        "  testx=X[index:]\n",
        "  testy=Y[index:]\n",
        "  return trainx,trainy,testx,testy\n",
        "  "
      ],
      "execution_count": 0,
      "outputs": []
    },
    {
      "cell_type": "code",
      "metadata": {
        "id": "MXKwyIW_Y4mY",
        "colab_type": "code",
        "colab": {}
      },
      "source": [
        "def build_model(units):\n",
        "  model=Sequential()\n",
        "  model.add(LSTM(units,activation=\"sigmoid\",return_sequences=True,input_shape=(1,1)))\n",
        "  model.add(Dropout(0.2))\n",
        "  model.add(LSTM(units,activation=\"sigmoid\"))\n",
        "  model.add(Dropout(0.25))\n",
        "  model.add(Dense(1))\n",
        "  return model\n"
      ],
      "execution_count": 0,
      "outputs": []
    },
    {
      "cell_type": "code",
      "metadata": {
        "id": "QpkM_s86jQLp",
        "colab_type": "code",
        "colab": {}
      },
      "source": [
        "from sklearn.preprocessing import MinMaxScaler\n",
        "x=datab['Time']\n",
        "y=datab['0']\n",
        "Y_scaled=y.values.astype(float).reshape((-1,1))\n",
        "Y=Y_scaled/10\n",
        "\n",
        "trainx,trainy,testx,testy=split_training_test_data(x,Y,0.2)\n",
        "train_x=trainx.values.astype(float).reshape((-1,1,1))"
      ],
      "execution_count": 0,
      "outputs": []
    },
    {
      "cell_type": "code",
      "metadata": {
        "id": "tlxxzhfmtN_q",
        "colab_type": "code",
        "outputId": "220b77fa-7fcd-4499-8d6b-e80d53cb2365",
        "colab": {
          "base_uri": "https://localhost:8080/",
          "height": 1000
        }
      },
      "source": [
        "\n",
        "es=EarlyStopping(monitor='val_loss',patience=3)\n",
        "model=build_model(50)\n",
        "model.compile(optimizer=\"adam\",loss=\"mse\",metrics=['mse'])\n",
        "model.fit(train_x,trainy,validation_split=0.1,batch_size=32,epochs=50,callbacks=[es])\n",
        "\n"
      ],
      "execution_count": 0,
      "outputs": [
        {
          "output_type": "stream",
          "text": [
            "Train on 5067 samples, validate on 564 samples\n",
            "Epoch 1/50\n",
            "5067/5067 [==============================] - 4s 719us/step - loss: 0.3211 - mean_squared_error: 0.3211 - val_loss: 0.2317 - val_mean_squared_error: 0.2317\n",
            "Epoch 2/50\n",
            "5067/5067 [==============================] - 1s 294us/step - loss: 0.2073 - mean_squared_error: 0.2073 - val_loss: 0.2306 - val_mean_squared_error: 0.2306\n",
            "Epoch 3/50\n",
            "5067/5067 [==============================] - 1s 293us/step - loss: 0.1921 - mean_squared_error: 0.1921 - val_loss: 0.2305 - val_mean_squared_error: 0.2305\n",
            "Epoch 4/50\n",
            "5067/5067 [==============================] - 1s 291us/step - loss: 0.1839 - mean_squared_error: 0.1839 - val_loss: 0.2267 - val_mean_squared_error: 0.2267\n",
            "Epoch 5/50\n",
            "5067/5067 [==============================] - 1s 287us/step - loss: 0.1799 - mean_squared_error: 0.1799 - val_loss: 0.2265 - val_mean_squared_error: 0.2265\n",
            "Epoch 6/50\n",
            "5067/5067 [==============================] - 1s 291us/step - loss: 0.1766 - mean_squared_error: 0.1766 - val_loss: 0.2265 - val_mean_squared_error: 0.2265\n",
            "Epoch 7/50\n",
            "5067/5067 [==============================] - 1s 288us/step - loss: 0.1754 - mean_squared_error: 0.1754 - val_loss: 0.2323 - val_mean_squared_error: 0.2323\n",
            "Epoch 8/50\n",
            "5067/5067 [==============================] - 1s 288us/step - loss: 0.1756 - mean_squared_error: 0.1756 - val_loss: 0.2265 - val_mean_squared_error: 0.2265\n",
            "Epoch 9/50\n",
            "5067/5067 [==============================] - 1s 294us/step - loss: 0.1737 - mean_squared_error: 0.1737 - val_loss: 0.2263 - val_mean_squared_error: 0.2263\n",
            "Epoch 10/50\n",
            "5067/5067 [==============================] - 1s 295us/step - loss: 0.1725 - mean_squared_error: 0.1725 - val_loss: 0.2256 - val_mean_squared_error: 0.2256\n",
            "Epoch 11/50\n",
            "5067/5067 [==============================] - 1s 288us/step - loss: 0.1717 - mean_squared_error: 0.1717 - val_loss: 0.2244 - val_mean_squared_error: 0.2244\n",
            "Epoch 12/50\n",
            "5067/5067 [==============================] - 1s 285us/step - loss: 0.1719 - mean_squared_error: 0.1719 - val_loss: 0.2246 - val_mean_squared_error: 0.2246\n",
            "Epoch 13/50\n",
            "5067/5067 [==============================] - 1s 291us/step - loss: 0.1724 - mean_squared_error: 0.1724 - val_loss: 0.2235 - val_mean_squared_error: 0.2235\n",
            "Epoch 14/50\n",
            "5067/5067 [==============================] - 1s 289us/step - loss: 0.1693 - mean_squared_error: 0.1693 - val_loss: 0.2231 - val_mean_squared_error: 0.2231\n",
            "Epoch 15/50\n",
            "5067/5067 [==============================] - 1s 289us/step - loss: 0.1698 - mean_squared_error: 0.1698 - val_loss: 0.2227 - val_mean_squared_error: 0.2227\n",
            "Epoch 16/50\n",
            "5067/5067 [==============================] - 1s 290us/step - loss: 0.1693 - mean_squared_error: 0.1693 - val_loss: 0.2201 - val_mean_squared_error: 0.2201\n",
            "Epoch 17/50\n",
            "5067/5067 [==============================] - 1s 291us/step - loss: 0.1681 - mean_squared_error: 0.1681 - val_loss: 0.2191 - val_mean_squared_error: 0.2191\n",
            "Epoch 18/50\n",
            "5067/5067 [==============================] - 1s 294us/step - loss: 0.1684 - mean_squared_error: 0.1684 - val_loss: 0.2193 - val_mean_squared_error: 0.2193\n",
            "Epoch 19/50\n",
            "5067/5067 [==============================] - 1s 291us/step - loss: 0.1672 - mean_squared_error: 0.1672 - val_loss: 0.2176 - val_mean_squared_error: 0.2176\n",
            "Epoch 20/50\n",
            "5067/5067 [==============================] - 1s 282us/step - loss: 0.1661 - mean_squared_error: 0.1661 - val_loss: 0.2179 - val_mean_squared_error: 0.2179\n",
            "Epoch 21/50\n",
            "5067/5067 [==============================] - 1s 289us/step - loss: 0.1662 - mean_squared_error: 0.1662 - val_loss: 0.2158 - val_mean_squared_error: 0.2158\n",
            "Epoch 22/50\n",
            "5067/5067 [==============================] - 1s 292us/step - loss: 0.1656 - mean_squared_error: 0.1656 - val_loss: 0.2147 - val_mean_squared_error: 0.2147\n",
            "Epoch 23/50\n",
            "5067/5067 [==============================] - 2s 298us/step - loss: 0.1641 - mean_squared_error: 0.1641 - val_loss: 0.2143 - val_mean_squared_error: 0.2143\n",
            "Epoch 24/50\n",
            "5067/5067 [==============================] - 1s 289us/step - loss: 0.1639 - mean_squared_error: 0.1639 - val_loss: 0.2127 - val_mean_squared_error: 0.2127\n",
            "Epoch 25/50\n",
            "5067/5067 [==============================] - 1s 286us/step - loss: 0.1658 - mean_squared_error: 0.1658 - val_loss: 0.2178 - val_mean_squared_error: 0.2178\n",
            "Epoch 26/50\n",
            "5067/5067 [==============================] - 1s 294us/step - loss: 0.1634 - mean_squared_error: 0.1634 - val_loss: 0.2111 - val_mean_squared_error: 0.2111\n",
            "Epoch 27/50\n",
            "5067/5067 [==============================] - 1s 290us/step - loss: 0.1650 - mean_squared_error: 0.1650 - val_loss: 0.2111 - val_mean_squared_error: 0.2111\n",
            "Epoch 28/50\n",
            "5067/5067 [==============================] - 1s 293us/step - loss: 0.1644 - mean_squared_error: 0.1644 - val_loss: 0.2129 - val_mean_squared_error: 0.2129\n",
            "Epoch 29/50\n",
            "5067/5067 [==============================] - 1s 292us/step - loss: 0.1626 - mean_squared_error: 0.1626 - val_loss: 0.2137 - val_mean_squared_error: 0.2137\n"
          ],
          "name": "stdout"
        },
        {
          "output_type": "execute_result",
          "data": {
            "text/plain": [
              "<keras.callbacks.History at 0x7f3218036d68>"
            ]
          },
          "metadata": {
            "tags": []
          },
          "execution_count": 262
        }
      ]
    },
    {
      "cell_type": "code",
      "metadata": {
        "id": "D01TRTghuH4y",
        "colab_type": "code",
        "outputId": "8f36522f-ff54-409e-85b1-23bab0391a57",
        "colab": {
          "base_uri": "https://localhost:8080/",
          "height": 297
        }
      },
      "source": [
        "plt.scatter(x.values,Y)\n",
        "plt.xlabel(\"Hour of the day\")\n",
        "plt.ylabel(\"Accident Reports\")"
      ],
      "execution_count": 0,
      "outputs": [
        {
          "output_type": "execute_result",
          "data": {
            "text/plain": [
              "Text(0, 0.5, 'Accident Reports')"
            ]
          },
          "metadata": {
            "tags": []
          },
          "execution_count": 245
        },
        {
          "output_type": "display_data",
          "data": {
            "image/png": "[encoded data removed]",
            "text/plain": [
              "<Figure size 432x288 with 1 Axes>"
            ]
          },
          "metadata": {
            "tags": []
          }
        }
      ]
    },
    {
      "cell_type": "code",
      "metadata": {
        "id": "9rSCdb3Upxor",
        "colab_type": "code",
        "colab": {}
      },
      "source": [
        ""
      ],
      "execution_count": 0,
      "outputs": []
    },
    {
      "cell_type": "code",
      "metadata": {
        "id": "zGi4ivN1szqL",
        "colab_type": "code",
        "colab": {}
      },
      "source": [
        ""
      ],
      "execution_count": 0,
      "outputs": []
    }
  ]
}
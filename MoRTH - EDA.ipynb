{
 "cells": [
  {
   "cell_type": "code",
   "execution_count": 1,
   "metadata": {},
   "outputs": [],
   "source": [
    "import numpy as np\n",
    "import pandas as pd\n",
    "import matplotlib.pyplot as plt\n",
    "import seaborn as sns\n",
    "import random\n",
    "import ast\n",
    "import time\n",
    "import os"
   ]
  },
  {
   "cell_type": "code",
   "execution_count": 2,
   "metadata": {},
   "outputs": [],
   "source": [
    "v_df = pd.read_csv('MorthDataSets/Completed/TR_Accident_Vehicle.csv')\n",
    "a_df = pd.read_csv('MorthDataSets/Completed/TBL_TR_Accident_Casualties.csv')"
   ]
  },
  {
   "cell_type": "code",
   "execution_count": 57,
   "metadata": {},
   "outputs": [
    {
     "name": "stdout",
     "output_type": "stream",
     "text": [
      "(410365, 10)\n",
      "(233984, 10)\n"
     ]
    },
    {
     "data": {
      "text/html": [
       "<div>\n",
       "<style scoped>\n",
       "    .dataframe tbody tr th:only-of-type {\n",
       "        vertical-align: middle;\n",
       "    }\n",
       "\n",
       "    .dataframe tbody tr th {\n",
       "        vertical-align: top;\n",
       "    }\n",
       "\n",
       "    .dataframe thead th {\n",
       "        text-align: right;\n",
       "    }\n",
       "</style>\n",
       "<table border=\"1\" class=\"dataframe\">\n",
       "  <thead>\n",
       "    <tr style=\"text-align: right;\">\n",
       "      <th></th>\n",
       "      <th>Unit_ID</th>\n",
       "      <th>Crime_No</th>\n",
       "      <th>Vehicle_Owner_ID</th>\n",
       "      <th>UserID</th>\n",
       "      <th>Modified_Unit_ID</th>\n",
       "      <th>Sync_Id</th>\n",
       "      <th>Sync_Id_Old</th>\n",
       "    </tr>\n",
       "  </thead>\n",
       "  <tbody>\n",
       "    <tr>\n",
       "      <th>count</th>\n",
       "      <td>233984.000000</td>\n",
       "      <td>2.339840e+05</td>\n",
       "      <td>2.339840e+05</td>\n",
       "      <td>2.339840e+05</td>\n",
       "      <td>233984.0</td>\n",
       "      <td>233984.0</td>\n",
       "      <td>233984.0</td>\n",
       "    </tr>\n",
       "    <tr>\n",
       "      <th>mean</th>\n",
       "      <td>1187.454377</td>\n",
       "      <td>2.016105e+09</td>\n",
       "      <td>2.016750e+09</td>\n",
       "      <td>1.029485e+08</td>\n",
       "      <td>0.0</td>\n",
       "      <td>-1.0</td>\n",
       "      <td>-1.0</td>\n",
       "    </tr>\n",
       "    <tr>\n",
       "      <th>std</th>\n",
       "      <td>602.771835</td>\n",
       "      <td>1.462900e+06</td>\n",
       "      <td>1.322442e+06</td>\n",
       "      <td>7.808712e+07</td>\n",
       "      <td>0.0</td>\n",
       "      <td>0.0</td>\n",
       "      <td>0.0</td>\n",
       "    </tr>\n",
       "    <tr>\n",
       "      <th>min</th>\n",
       "      <td>57.000000</td>\n",
       "      <td>2.014000e+09</td>\n",
       "      <td>2.014000e+09</td>\n",
       "      <td>4.500000e+01</td>\n",
       "      <td>0.0</td>\n",
       "      <td>-1.0</td>\n",
       "      <td>-1.0</td>\n",
       "    </tr>\n",
       "    <tr>\n",
       "      <th>25%</th>\n",
       "      <td>727.000000</td>\n",
       "      <td>2.015000e+09</td>\n",
       "      <td>2.016000e+09</td>\n",
       "      <td>4.500000e+07</td>\n",
       "      <td>0.0</td>\n",
       "      <td>-1.0</td>\n",
       "      <td>-1.0</td>\n",
       "    </tr>\n",
       "    <tr>\n",
       "      <th>50%</th>\n",
       "      <td>1206.000000</td>\n",
       "      <td>2.016000e+09</td>\n",
       "      <td>2.017001e+09</td>\n",
       "      <td>1.046000e+08</td>\n",
       "      <td>0.0</td>\n",
       "      <td>-1.0</td>\n",
       "      <td>-1.0</td>\n",
       "    </tr>\n",
       "    <tr>\n",
       "      <th>75%</th>\n",
       "      <td>1761.000000</td>\n",
       "      <td>2.017000e+09</td>\n",
       "      <td>2.018000e+09</td>\n",
       "      <td>1.503000e+08</td>\n",
       "      <td>0.0</td>\n",
       "      <td>-1.0</td>\n",
       "      <td>-1.0</td>\n",
       "    </tr>\n",
       "    <tr>\n",
       "      <th>max</th>\n",
       "      <td>2245.000000</td>\n",
       "      <td>2.019000e+09</td>\n",
       "      <td>2.019007e+09</td>\n",
       "      <td>1.869000e+09</td>\n",
       "      <td>0.0</td>\n",
       "      <td>-1.0</td>\n",
       "      <td>-1.0</td>\n",
       "    </tr>\n",
       "  </tbody>\n",
       "</table>\n",
       "</div>"
      ],
      "text/plain": [
       "             Unit_ID      Crime_No  Vehicle_Owner_ID        UserID  \\\n",
       "count  233984.000000  2.339840e+05      2.339840e+05  2.339840e+05   \n",
       "mean     1187.454377  2.016105e+09      2.016750e+09  1.029485e+08   \n",
       "std       602.771835  1.462900e+06      1.322442e+06  7.808712e+07   \n",
       "min        57.000000  2.014000e+09      2.014000e+09  4.500000e+01   \n",
       "25%       727.000000  2.015000e+09      2.016000e+09  4.500000e+07   \n",
       "50%      1206.000000  2.016000e+09      2.017001e+09  1.046000e+08   \n",
       "75%      1761.000000  2.017000e+09      2.018000e+09  1.503000e+08   \n",
       "max      2245.000000  2.019000e+09      2.019007e+09  1.869000e+09   \n",
       "\n",
       "       Modified_Unit_ID   Sync_Id  Sync_Id_Old  \n",
       "count          233984.0  233984.0     233984.0  \n",
       "mean                0.0      -1.0         -1.0  \n",
       "std                 0.0       0.0          0.0  \n",
       "min                 0.0      -1.0         -1.0  \n",
       "25%                 0.0      -1.0         -1.0  \n",
       "50%                 0.0      -1.0         -1.0  \n",
       "75%                 0.0      -1.0         -1.0  \n",
       "max                 0.0      -1.0         -1.0  "
      ]
     },
     "execution_count": 57,
     "metadata": {},
     "output_type": "execute_result"
    }
   ],
   "source": [
    "\n",
    "print v_df.shape\n",
    "v_df.dropna(inplace=True)\n",
    "v_df.drop_duplicates(inplace=True)\n",
    "print v_df.shape\n",
    "v_df.describe()\n"
   ]
  },
  {
   "cell_type": "code",
   "execution_count": 58,
   "metadata": {},
   "outputs": [
    {
     "data": {
      "text/plain": [
       "Index([u'Unit_ID', u'Registration_Number', u'Crime_No', u'Vehicle_Owner_ID',\n",
       "       u'UserID', u'Modified_Unit_ID', u'Action_Flag', u'Sync_Id',\n",
       "       u'Sync_Id_Old', u'DEDT'],\n",
       "      dtype='object')"
      ]
     },
     "execution_count": 58,
     "metadata": {},
     "output_type": "execute_result"
    }
   ],
   "source": [
    "v_df.columns"
   ]
  },
  {
   "cell_type": "code",
   "execution_count": 59,
   "metadata": {},
   "outputs": [],
   "source": [
    "v_df.drop(['Action_Flag','Sync_Id','Sync_Id_Old','UserID'], axis=1, inplace=True)"
   ]
  },
  {
   "cell_type": "code",
   "execution_count": 60,
   "metadata": {},
   "outputs": [],
   "source": [
    "v_df['Time'] = v_df['DEDT'].apply(lambda x : str((x[-5:])))"
   ]
  },
  {
   "cell_type": "code",
   "execution_count": 61,
   "metadata": {},
   "outputs": [],
   "source": [
    "v_df['Date'] = v_df['DEDT'].apply(lambda x : str(x[:-5]))"
   ]
  },
  {
   "cell_type": "code",
   "execution_count": 62,
   "metadata": {},
   "outputs": [],
   "source": [
    "v_df.sort_values('Date', axis=0, ascending=True, inplace=True, na_position='last')"
   ]
  },
  {
   "cell_type": "code",
   "execution_count": 63,
   "metadata": {},
   "outputs": [],
   "source": [
    "v_df.drop(['Modified_Unit_ID'], inplace=True, axis=1)"
   ]
  },
  {
   "cell_type": "code",
   "execution_count": 64,
   "metadata": {},
   "outputs": [],
   "source": [
    "v_df['Time'] = v_df['Time'].apply(lambda x : x[:2])"
   ]
  },
  {
   "cell_type": "code",
   "execution_count": 3,
   "metadata": {},
   "outputs": [
    {
     "name": "stdout",
     "output_type": "stream",
     "text": [
      "Person_ID                   0\n",
      "Crime_No                    0\n",
      "Unit_ID                     0\n",
      "Registration_Number       248\n",
      "Casualty_Type               0\n",
      "Injury_Type                 0\n",
      "Injury_Description     822232\n",
      "SeatBelt                    0\n",
      "Helmet                      0\n",
      "Passenger_Position          0\n",
      "Hit_by                      0\n",
      "Padestrian_Caused           0\n",
      "Padestrian_Action           0\n",
      "Padestrian_Location         0\n",
      "Research_Code          813433\n",
      "Head_Injury                 0\n",
      "RegistrationValue           0\n",
      "Injury_Details             44\n",
      "Accident_Cause             18\n",
      "Negligence_Details         12\n",
      "UserID                      0\n",
      "Person_No                   0\n",
      "IsGov_Vehicle          822232\n",
      "Modified_Unit_ID            0\n",
      "Action_Flag                 0\n",
      "Sync_Id                     0\n",
      "Sync_Id_Old                 0\n",
      "DEDT                        0\n",
      "Hospital_Name          465746\n",
      "dtype: int64\n",
      "(822232, 29)\n"
     ]
    }
   ],
   "source": [
    "print a_df.isna().sum()\n",
    "# a_df.dropna(inplace=True)\n",
    "print a_df.shape\n",
    "a_df.drop_duplicates(inplace=True)"
   ]
  },
  {
   "cell_type": "code",
   "execution_count": 4,
   "metadata": {},
   "outputs": [],
   "source": [
    "def get_unique(col, df=a_df):\n",
    "    return list(df[col].unique())"
   ]
  },
  {
   "cell_type": "code",
   "execution_count": 5,
   "metadata": {},
   "outputs": [],
   "source": [
    "def get_map(col, arr, df=a_df):\n",
    "    return df[col].apply(lambda x: arr.index(x))"
   ]
  },
  {
   "cell_type": "code",
   "execution_count": 6,
   "metadata": {},
   "outputs": [],
   "source": [
    "seat = get_unique('SeatBelt')\n",
    "helm = get_unique('Helmet')\n",
    "inj = get_unique('Injury_Type')"
   ]
  },
  {
   "cell_type": "code",
   "execution_count": 7,
   "metadata": {},
   "outputs": [],
   "source": [
    "a_df['SeatBelt'] = get_map('SeatBelt', seat)"
   ]
  },
  {
   "cell_type": "code",
   "execution_count": 8,
   "metadata": {},
   "outputs": [],
   "source": [
    "a_df['Helmet'] = get_map('Helmet', helm)\n",
    "a_df['Injury_Type'] = get_map('Injury_Type', inj)"
   ]
  },
  {
   "cell_type": "code",
   "execution_count": 9,
   "metadata": {},
   "outputs": [],
   "source": [
    "casualty = get_unique('Casualty_Type')\n",
    "a_df['Casualty_Type'] = get_map('Casualty_Type', casualty)"
   ]
  },
  {
   "cell_type": "code",
   "execution_count": 10,
   "metadata": {},
   "outputs": [],
   "source": [
    "pass_pos = get_unique('Passenger_Position')\n",
    "a_df['Passenger_Position'] = get_map('Passenger_Position', pass_pos)"
   ]
  },
  {
   "cell_type": "code",
   "execution_count": 11,
   "metadata": {},
   "outputs": [],
   "source": [
    "a_df.drop(['Injury_Description','UserID','IsGov_Vehicle','Modified_Unit_ID','Sync_Id','Sync_Id_Old'], axis=1, inplace=True)"
   ]
  },
  {
   "cell_type": "code",
   "execution_count": 12,
   "metadata": {},
   "outputs": [],
   "source": [
    "hit = get_unique('Hit_by')\n",
    "a_df['Hit_by'] = get_map('Hit_by', hit)"
   ]
  },
  {
   "cell_type": "code",
   "execution_count": 13,
   "metadata": {},
   "outputs": [],
   "source": [
    "ped_loc = get_unique('Padestrian_Location')\n",
    "a_df['Padestrian_Location'] = get_map('Padestrian_Location', ped_loc)"
   ]
  },
  {
   "cell_type": "code",
   "execution_count": 14,
   "metadata": {},
   "outputs": [],
   "source": [
    "ped_act = get_unique('Padestrian_Action')\n",
    "a_df['Padestrian_Action'] = get_map('Padestrian_Action', ped_act)"
   ]
  },
  {
   "cell_type": "code",
   "execution_count": 15,
   "metadata": {},
   "outputs": [
    {
     "data": {
      "text/html": [
       "<div>\n",
       "<style scoped>\n",
       "    .dataframe tbody tr th:only-of-type {\n",
       "        vertical-align: middle;\n",
       "    }\n",
       "\n",
       "    .dataframe tbody tr th {\n",
       "        vertical-align: top;\n",
       "    }\n",
       "\n",
       "    .dataframe thead th {\n",
       "        text-align: right;\n",
       "    }\n",
       "</style>\n",
       "<table border=\"1\" class=\"dataframe\">\n",
       "  <thead>\n",
       "    <tr style=\"text-align: right;\">\n",
       "      <th></th>\n",
       "      <th>Person_ID</th>\n",
       "      <th>Crime_No</th>\n",
       "      <th>Unit_ID</th>\n",
       "      <th>Casualty_Type</th>\n",
       "      <th>Injury_Type</th>\n",
       "      <th>SeatBelt</th>\n",
       "      <th>Helmet</th>\n",
       "      <th>Passenger_Position</th>\n",
       "      <th>Hit_by</th>\n",
       "      <th>Padestrian_Caused</th>\n",
       "      <th>Padestrian_Action</th>\n",
       "      <th>Padestrian_Location</th>\n",
       "      <th>Head_Injury</th>\n",
       "      <th>RegistrationValue</th>\n",
       "      <th>Person_No</th>\n",
       "    </tr>\n",
       "  </thead>\n",
       "  <tbody>\n",
       "    <tr>\n",
       "      <th>count</th>\n",
       "      <td>2.518080e+05</td>\n",
       "      <td>2.518080e+05</td>\n",
       "      <td>251808.000000</td>\n",
       "      <td>251808.000000</td>\n",
       "      <td>251808.000000</td>\n",
       "      <td>251808.000000</td>\n",
       "      <td>251808.000000</td>\n",
       "      <td>251808.000000</td>\n",
       "      <td>251808.000000</td>\n",
       "      <td>251808.000000</td>\n",
       "      <td>251808.000000</td>\n",
       "      <td>251808.000000</td>\n",
       "      <td>251808.000000</td>\n",
       "      <td>2.518080e+05</td>\n",
       "      <td>2.518080e+05</td>\n",
       "    </tr>\n",
       "    <tr>\n",
       "      <th>mean</th>\n",
       "      <td>2.016717e+09</td>\n",
       "      <td>2.016002e+09</td>\n",
       "      <td>1151.717757</td>\n",
       "      <td>1.038954</td>\n",
       "      <td>0.780825</td>\n",
       "      <td>0.826316</td>\n",
       "      <td>1.168930</td>\n",
       "      <td>1.623880</td>\n",
       "      <td>1.245195</td>\n",
       "      <td>0.087745</td>\n",
       "      <td>0.466443</td>\n",
       "      <td>0.475215</td>\n",
       "      <td>0.041281</td>\n",
       "      <td>2.015769e+09</td>\n",
       "      <td>2.016017e+09</td>\n",
       "    </tr>\n",
       "    <tr>\n",
       "      <th>std</th>\n",
       "      <td>1.299479e+06</td>\n",
       "      <td>1.443596e+06</td>\n",
       "      <td>595.081551</td>\n",
       "      <td>0.917803</td>\n",
       "      <td>0.766115</td>\n",
       "      <td>0.684956</td>\n",
       "      <td>0.883402</td>\n",
       "      <td>1.481783</td>\n",
       "      <td>1.257265</td>\n",
       "      <td>0.523818</td>\n",
       "      <td>1.268221</td>\n",
       "      <td>1.317043</td>\n",
       "      <td>0.198941</td>\n",
       "      <td>4.235225e+07</td>\n",
       "      <td>1.447392e+06</td>\n",
       "    </tr>\n",
       "    <tr>\n",
       "      <th>min</th>\n",
       "      <td>2.014000e+09</td>\n",
       "      <td>2.014000e+09</td>\n",
       "      <td>57.000000</td>\n",
       "      <td>0.000000</td>\n",
       "      <td>0.000000</td>\n",
       "      <td>0.000000</td>\n",
       "      <td>0.000000</td>\n",
       "      <td>0.000000</td>\n",
       "      <td>0.000000</td>\n",
       "      <td>0.000000</td>\n",
       "      <td>0.000000</td>\n",
       "      <td>0.000000</td>\n",
       "      <td>0.000000</td>\n",
       "      <td>1.000000e+00</td>\n",
       "      <td>2.014000e+09</td>\n",
       "    </tr>\n",
       "    <tr>\n",
       "      <th>25%</th>\n",
       "      <td>2.016000e+09</td>\n",
       "      <td>2.015000e+09</td>\n",
       "      <td>608.000000</td>\n",
       "      <td>0.000000</td>\n",
       "      <td>0.000000</td>\n",
       "      <td>0.000000</td>\n",
       "      <td>1.000000</td>\n",
       "      <td>1.000000</td>\n",
       "      <td>0.000000</td>\n",
       "      <td>0.000000</td>\n",
       "      <td>0.000000</td>\n",
       "      <td>0.000000</td>\n",
       "      <td>0.000000</td>\n",
       "      <td>2.016000e+09</td>\n",
       "      <td>2.015000e+09</td>\n",
       "    </tr>\n",
       "    <tr>\n",
       "      <th>50%</th>\n",
       "      <td>2.017001e+09</td>\n",
       "      <td>2.016000e+09</td>\n",
       "      <td>1167.000000</td>\n",
       "      <td>1.000000</td>\n",
       "      <td>1.000000</td>\n",
       "      <td>1.000000</td>\n",
       "      <td>1.000000</td>\n",
       "      <td>1.000000</td>\n",
       "      <td>1.000000</td>\n",
       "      <td>0.000000</td>\n",
       "      <td>0.000000</td>\n",
       "      <td>0.000000</td>\n",
       "      <td>0.000000</td>\n",
       "      <td>2.017000e+09</td>\n",
       "      <td>2.016000e+09</td>\n",
       "    </tr>\n",
       "    <tr>\n",
       "      <th>75%</th>\n",
       "      <td>2.017007e+09</td>\n",
       "      <td>2.017000e+09</td>\n",
       "      <td>1674.000000</td>\n",
       "      <td>2.000000</td>\n",
       "      <td>1.000000</td>\n",
       "      <td>1.000000</td>\n",
       "      <td>1.000000</td>\n",
       "      <td>3.000000</td>\n",
       "      <td>2.000000</td>\n",
       "      <td>0.000000</td>\n",
       "      <td>0.000000</td>\n",
       "      <td>0.000000</td>\n",
       "      <td>0.000000</td>\n",
       "      <td>2.017005e+09</td>\n",
       "      <td>2.017001e+09</td>\n",
       "    </tr>\n",
       "    <tr>\n",
       "      <th>max</th>\n",
       "      <td>2.019010e+09</td>\n",
       "      <td>2.019000e+09</td>\n",
       "      <td>2245.000000</td>\n",
       "      <td>3.000000</td>\n",
       "      <td>4.000000</td>\n",
       "      <td>3.000000</td>\n",
       "      <td>4.000000</td>\n",
       "      <td>9.000000</td>\n",
       "      <td>9.000000</td>\n",
       "      <td>4.000000</td>\n",
       "      <td>10.000000</td>\n",
       "      <td>10.000000</td>\n",
       "      <td>1.000000</td>\n",
       "      <td>2.019007e+09</td>\n",
       "      <td>2.019002e+09</td>\n",
       "    </tr>\n",
       "  </tbody>\n",
       "</table>\n",
       "</div>"
      ],
      "text/plain": [
       "          Person_ID      Crime_No        Unit_ID  Casualty_Type  \\\n",
       "count  2.518080e+05  2.518080e+05  251808.000000  251808.000000   \n",
       "mean   2.016717e+09  2.016002e+09    1151.717757       1.038954   \n",
       "std    1.299479e+06  1.443596e+06     595.081551       0.917803   \n",
       "min    2.014000e+09  2.014000e+09      57.000000       0.000000   \n",
       "25%    2.016000e+09  2.015000e+09     608.000000       0.000000   \n",
       "50%    2.017001e+09  2.016000e+09    1167.000000       1.000000   \n",
       "75%    2.017007e+09  2.017000e+09    1674.000000       2.000000   \n",
       "max    2.019010e+09  2.019000e+09    2245.000000       3.000000   \n",
       "\n",
       "         Injury_Type       SeatBelt         Helmet  Passenger_Position  \\\n",
       "count  251808.000000  251808.000000  251808.000000       251808.000000   \n",
       "mean        0.780825       0.826316       1.168930            1.623880   \n",
       "std         0.766115       0.684956       0.883402            1.481783   \n",
       "min         0.000000       0.000000       0.000000            0.000000   \n",
       "25%         0.000000       0.000000       1.000000            1.000000   \n",
       "50%         1.000000       1.000000       1.000000            1.000000   \n",
       "75%         1.000000       1.000000       1.000000            3.000000   \n",
       "max         4.000000       3.000000       4.000000            9.000000   \n",
       "\n",
       "              Hit_by  Padestrian_Caused  Padestrian_Action  \\\n",
       "count  251808.000000      251808.000000      251808.000000   \n",
       "mean        1.245195           0.087745           0.466443   \n",
       "std         1.257265           0.523818           1.268221   \n",
       "min         0.000000           0.000000           0.000000   \n",
       "25%         0.000000           0.000000           0.000000   \n",
       "50%         1.000000           0.000000           0.000000   \n",
       "75%         2.000000           0.000000           0.000000   \n",
       "max         9.000000           4.000000          10.000000   \n",
       "\n",
       "       Padestrian_Location    Head_Injury  RegistrationValue     Person_No  \n",
       "count        251808.000000  251808.000000       2.518080e+05  2.518080e+05  \n",
       "mean              0.475215       0.041281       2.015769e+09  2.016017e+09  \n",
       "std               1.317043       0.198941       4.235225e+07  1.447392e+06  \n",
       "min               0.000000       0.000000       1.000000e+00  2.014000e+09  \n",
       "25%               0.000000       0.000000       2.016000e+09  2.015000e+09  \n",
       "50%               0.000000       0.000000       2.017000e+09  2.016000e+09  \n",
       "75%               0.000000       0.000000       2.017005e+09  2.017001e+09  \n",
       "max              10.000000       1.000000       2.019007e+09  2.019002e+09  "
      ]
     },
     "execution_count": 15,
     "metadata": {},
     "output_type": "execute_result"
    }
   ],
   "source": [
    "a_df.describe()"
   ]
  },
  {
   "cell_type": "code",
   "execution_count": null,
   "metadata": {},
   "outputs": [
    {
     "data": {
      "text/plain": [
       "<seaborn.axisgrid.PairGrid at 0x7f847778a6d0>"
      ]
     },
     "execution_count": 115,
     "metadata": {},
     "output_type": "execute_result"
    }
   ],
   "source": [
    "sns.pairplot(a_df)"
   ]
  },
  {
   "cell_type": "code",
   "execution_count": 16,
   "metadata": {},
   "outputs": [
    {
     "data": {
      "text/html": [
       "<div>\n",
       "<style scoped>\n",
       "    .dataframe tbody tr th:only-of-type {\n",
       "        vertical-align: middle;\n",
       "    }\n",
       "\n",
       "    .dataframe tbody tr th {\n",
       "        vertical-align: top;\n",
       "    }\n",
       "\n",
       "    .dataframe thead th {\n",
       "        text-align: right;\n",
       "    }\n",
       "</style>\n",
       "<table border=\"1\" class=\"dataframe\">\n",
       "  <thead>\n",
       "    <tr style=\"text-align: right;\">\n",
       "      <th></th>\n",
       "      <th>Person_ID</th>\n",
       "      <th>Crime_No</th>\n",
       "      <th>Unit_ID</th>\n",
       "      <th>Casualty_Type</th>\n",
       "      <th>Injury_Type</th>\n",
       "      <th>SeatBelt</th>\n",
       "      <th>Helmet</th>\n",
       "      <th>Passenger_Position</th>\n",
       "      <th>Hit_by</th>\n",
       "      <th>Padestrian_Caused</th>\n",
       "      <th>Padestrian_Action</th>\n",
       "      <th>Padestrian_Location</th>\n",
       "      <th>Head_Injury</th>\n",
       "      <th>RegistrationValue</th>\n",
       "      <th>Person_No</th>\n",
       "    </tr>\n",
       "  </thead>\n",
       "  <tbody>\n",
       "    <tr>\n",
       "      <th>Person_ID</th>\n",
       "      <td>1.000000</td>\n",
       "      <td>0.757620</td>\n",
       "      <td>0.038798</td>\n",
       "      <td>-0.018097</td>\n",
       "      <td>0.020149</td>\n",
       "      <td>0.000314</td>\n",
       "      <td>0.023788</td>\n",
       "      <td>0.037813</td>\n",
       "      <td>-0.023675</td>\n",
       "      <td>-0.025056</td>\n",
       "      <td>-0.012675</td>\n",
       "      <td>-0.012254</td>\n",
       "      <td>0.031550</td>\n",
       "      <td>-0.006383</td>\n",
       "      <td>0.759279</td>\n",
       "    </tr>\n",
       "    <tr>\n",
       "      <th>Crime_No</th>\n",
       "      <td>0.757620</td>\n",
       "      <td>1.000000</td>\n",
       "      <td>0.080934</td>\n",
       "      <td>-0.020588</td>\n",
       "      <td>-0.003146</td>\n",
       "      <td>0.007358</td>\n",
       "      <td>0.032525</td>\n",
       "      <td>0.028583</td>\n",
       "      <td>-0.032109</td>\n",
       "      <td>-0.003648</td>\n",
       "      <td>0.000479</td>\n",
       "      <td>0.002400</td>\n",
       "      <td>0.036807</td>\n",
       "      <td>-0.005071</td>\n",
       "      <td>0.994801</td>\n",
       "    </tr>\n",
       "    <tr>\n",
       "      <th>Unit_ID</th>\n",
       "      <td>0.038798</td>\n",
       "      <td>0.080934</td>\n",
       "      <td>1.000000</td>\n",
       "      <td>-0.051994</td>\n",
       "      <td>-0.048241</td>\n",
       "      <td>-0.012861</td>\n",
       "      <td>0.015542</td>\n",
       "      <td>-0.005082</td>\n",
       "      <td>-0.015944</td>\n",
       "      <td>0.033167</td>\n",
       "      <td>0.046827</td>\n",
       "      <td>0.056789</td>\n",
       "      <td>-0.001708</td>\n",
       "      <td>0.001031</td>\n",
       "      <td>0.081302</td>\n",
       "    </tr>\n",
       "    <tr>\n",
       "      <th>Casualty_Type</th>\n",
       "      <td>-0.018097</td>\n",
       "      <td>-0.020588</td>\n",
       "      <td>-0.051994</td>\n",
       "      <td>1.000000</td>\n",
       "      <td>-0.025117</td>\n",
       "      <td>0.287048</td>\n",
       "      <td>-0.216450</td>\n",
       "      <td>-0.476580</td>\n",
       "      <td>0.122740</td>\n",
       "      <td>-0.007143</td>\n",
       "      <td>-0.015603</td>\n",
       "      <td>-0.015295</td>\n",
       "      <td>-0.035995</td>\n",
       "      <td>-0.001968</td>\n",
       "      <td>-0.016754</td>\n",
       "    </tr>\n",
       "    <tr>\n",
       "      <th>Injury_Type</th>\n",
       "      <td>0.020149</td>\n",
       "      <td>-0.003146</td>\n",
       "      <td>-0.048241</td>\n",
       "      <td>-0.025117</td>\n",
       "      <td>1.000000</td>\n",
       "      <td>-0.007656</td>\n",
       "      <td>-0.025471</td>\n",
       "      <td>-0.000906</td>\n",
       "      <td>0.081434</td>\n",
       "      <td>-0.013907</td>\n",
       "      <td>-0.017980</td>\n",
       "      <td>-0.017203</td>\n",
       "      <td>0.139384</td>\n",
       "      <td>-0.009275</td>\n",
       "      <td>-0.004123</td>\n",
       "    </tr>\n",
       "    <tr>\n",
       "      <th>SeatBelt</th>\n",
       "      <td>0.000314</td>\n",
       "      <td>0.007358</td>\n",
       "      <td>-0.012861</td>\n",
       "      <td>0.287048</td>\n",
       "      <td>-0.007656</td>\n",
       "      <td>1.000000</td>\n",
       "      <td>-0.039338</td>\n",
       "      <td>-0.085140</td>\n",
       "      <td>0.046358</td>\n",
       "      <td>0.042409</td>\n",
       "      <td>0.093298</td>\n",
       "      <td>0.091542</td>\n",
       "      <td>-0.009692</td>\n",
       "      <td>-0.003180</td>\n",
       "      <td>0.008242</td>\n",
       "    </tr>\n",
       "    <tr>\n",
       "      <th>Helmet</th>\n",
       "      <td>0.023788</td>\n",
       "      <td>0.032525</td>\n",
       "      <td>0.015542</td>\n",
       "      <td>-0.216450</td>\n",
       "      <td>-0.025471</td>\n",
       "      <td>-0.039338</td>\n",
       "      <td>1.000000</td>\n",
       "      <td>0.214886</td>\n",
       "      <td>-0.141769</td>\n",
       "      <td>-0.031964</td>\n",
       "      <td>-0.070304</td>\n",
       "      <td>-0.068951</td>\n",
       "      <td>0.045781</td>\n",
       "      <td>0.000305</td>\n",
       "      <td>0.031211</td>\n",
       "    </tr>\n",
       "    <tr>\n",
       "      <th>Passenger_Position</th>\n",
       "      <td>0.037813</td>\n",
       "      <td>0.028583</td>\n",
       "      <td>-0.005082</td>\n",
       "      <td>-0.476580</td>\n",
       "      <td>-0.000906</td>\n",
       "      <td>-0.085140</td>\n",
       "      <td>0.214886</td>\n",
       "      <td>1.000000</td>\n",
       "      <td>-0.048614</td>\n",
       "      <td>-0.070523</td>\n",
       "      <td>-0.154818</td>\n",
       "      <td>-0.151865</td>\n",
       "      <td>0.010815</td>\n",
       "      <td>0.007204</td>\n",
       "      <td>0.028120</td>\n",
       "    </tr>\n",
       "    <tr>\n",
       "      <th>Hit_by</th>\n",
       "      <td>-0.023675</td>\n",
       "      <td>-0.032109</td>\n",
       "      <td>-0.015944</td>\n",
       "      <td>0.122740</td>\n",
       "      <td>0.081434</td>\n",
       "      <td>0.046358</td>\n",
       "      <td>-0.141769</td>\n",
       "      <td>-0.048614</td>\n",
       "      <td>1.000000</td>\n",
       "      <td>-0.042480</td>\n",
       "      <td>-0.083120</td>\n",
       "      <td>-0.086005</td>\n",
       "      <td>0.005576</td>\n",
       "      <td>0.003713</td>\n",
       "      <td>-0.028853</td>\n",
       "    </tr>\n",
       "    <tr>\n",
       "      <th>Padestrian_Caused</th>\n",
       "      <td>-0.025056</td>\n",
       "      <td>-0.003648</td>\n",
       "      <td>0.033167</td>\n",
       "      <td>-0.007143</td>\n",
       "      <td>-0.013907</td>\n",
       "      <td>0.042409</td>\n",
       "      <td>-0.031964</td>\n",
       "      <td>-0.070523</td>\n",
       "      <td>-0.042480</td>\n",
       "      <td>1.000000</td>\n",
       "      <td>0.351793</td>\n",
       "      <td>0.334551</td>\n",
       "      <td>0.044659</td>\n",
       "      <td>-0.017444</td>\n",
       "      <td>-0.004844</td>\n",
       "    </tr>\n",
       "    <tr>\n",
       "      <th>Padestrian_Action</th>\n",
       "      <td>-0.012675</td>\n",
       "      <td>0.000479</td>\n",
       "      <td>0.046827</td>\n",
       "      <td>-0.015603</td>\n",
       "      <td>-0.017980</td>\n",
       "      <td>0.093298</td>\n",
       "      <td>-0.070304</td>\n",
       "      <td>-0.154818</td>\n",
       "      <td>-0.083120</td>\n",
       "      <td>0.351793</td>\n",
       "      <td>1.000000</td>\n",
       "      <td>0.761307</td>\n",
       "      <td>0.034193</td>\n",
       "      <td>-0.023247</td>\n",
       "      <td>-0.001935</td>\n",
       "    </tr>\n",
       "    <tr>\n",
       "      <th>Padestrian_Location</th>\n",
       "      <td>-0.012254</td>\n",
       "      <td>0.002400</td>\n",
       "      <td>0.056789</td>\n",
       "      <td>-0.015295</td>\n",
       "      <td>-0.017203</td>\n",
       "      <td>0.091542</td>\n",
       "      <td>-0.068951</td>\n",
       "      <td>-0.151865</td>\n",
       "      <td>-0.086005</td>\n",
       "      <td>0.334551</td>\n",
       "      <td>0.761307</td>\n",
       "      <td>1.000000</td>\n",
       "      <td>0.029482</td>\n",
       "      <td>-0.024544</td>\n",
       "      <td>0.000005</td>\n",
       "    </tr>\n",
       "    <tr>\n",
       "      <th>Head_Injury</th>\n",
       "      <td>0.031550</td>\n",
       "      <td>0.036807</td>\n",
       "      <td>-0.001708</td>\n",
       "      <td>-0.035995</td>\n",
       "      <td>0.139384</td>\n",
       "      <td>-0.009692</td>\n",
       "      <td>0.045781</td>\n",
       "      <td>0.010815</td>\n",
       "      <td>0.005576</td>\n",
       "      <td>0.044659</td>\n",
       "      <td>0.034193</td>\n",
       "      <td>0.029482</td>\n",
       "      <td>1.000000</td>\n",
       "      <td>-0.003142</td>\n",
       "      <td>0.035652</td>\n",
       "    </tr>\n",
       "    <tr>\n",
       "      <th>RegistrationValue</th>\n",
       "      <td>-0.006383</td>\n",
       "      <td>-0.005071</td>\n",
       "      <td>0.001031</td>\n",
       "      <td>-0.001968</td>\n",
       "      <td>-0.009275</td>\n",
       "      <td>-0.003180</td>\n",
       "      <td>0.000305</td>\n",
       "      <td>0.007204</td>\n",
       "      <td>0.003713</td>\n",
       "      <td>-0.017444</td>\n",
       "      <td>-0.023247</td>\n",
       "      <td>-0.024544</td>\n",
       "      <td>-0.003142</td>\n",
       "      <td>1.000000</td>\n",
       "      <td>-0.006230</td>\n",
       "    </tr>\n",
       "    <tr>\n",
       "      <th>Person_No</th>\n",
       "      <td>0.759279</td>\n",
       "      <td>0.994801</td>\n",
       "      <td>0.081302</td>\n",
       "      <td>-0.016754</td>\n",
       "      <td>-0.004123</td>\n",
       "      <td>0.008242</td>\n",
       "      <td>0.031211</td>\n",
       "      <td>0.028120</td>\n",
       "      <td>-0.028853</td>\n",
       "      <td>-0.004844</td>\n",
       "      <td>-0.001935</td>\n",
       "      <td>0.000005</td>\n",
       "      <td>0.035652</td>\n",
       "      <td>-0.006230</td>\n",
       "      <td>1.000000</td>\n",
       "    </tr>\n",
       "  </tbody>\n",
       "</table>\n",
       "</div>"
      ],
      "text/plain": [
       "                     Person_ID  Crime_No   Unit_ID  Casualty_Type  \\\n",
       "Person_ID             1.000000  0.757620  0.038798      -0.018097   \n",
       "Crime_No              0.757620  1.000000  0.080934      -0.020588   \n",
       "Unit_ID               0.038798  0.080934  1.000000      -0.051994   \n",
       "Casualty_Type        -0.018097 -0.020588 -0.051994       1.000000   \n",
       "Injury_Type           0.020149 -0.003146 -0.048241      -0.025117   \n",
       "SeatBelt              0.000314  0.007358 -0.012861       0.287048   \n",
       "Helmet                0.023788  0.032525  0.015542      -0.216450   \n",
       "Passenger_Position    0.037813  0.028583 -0.005082      -0.476580   \n",
       "Hit_by               -0.023675 -0.032109 -0.015944       0.122740   \n",
       "Padestrian_Caused    -0.025056 -0.003648  0.033167      -0.007143   \n",
       "Padestrian_Action    -0.012675  0.000479  0.046827      -0.015603   \n",
       "Padestrian_Location  -0.012254  0.002400  0.056789      -0.015295   \n",
       "Head_Injury           0.031550  0.036807 -0.001708      -0.035995   \n",
       "RegistrationValue    -0.006383 -0.005071  0.001031      -0.001968   \n",
       "Person_No             0.759279  0.994801  0.081302      -0.016754   \n",
       "\n",
       "                     Injury_Type  SeatBelt    Helmet  Passenger_Position  \\\n",
       "Person_ID               0.020149  0.000314  0.023788            0.037813   \n",
       "Crime_No               -0.003146  0.007358  0.032525            0.028583   \n",
       "Unit_ID                -0.048241 -0.012861  0.015542           -0.005082   \n",
       "Casualty_Type          -0.025117  0.287048 -0.216450           -0.476580   \n",
       "Injury_Type             1.000000 -0.007656 -0.025471           -0.000906   \n",
       "SeatBelt               -0.007656  1.000000 -0.039338           -0.085140   \n",
       "Helmet                 -0.025471 -0.039338  1.000000            0.214886   \n",
       "Passenger_Position     -0.000906 -0.085140  0.214886            1.000000   \n",
       "Hit_by                  0.081434  0.046358 -0.141769           -0.048614   \n",
       "Padestrian_Caused      -0.013907  0.042409 -0.031964           -0.070523   \n",
       "Padestrian_Action      -0.017980  0.093298 -0.070304           -0.154818   \n",
       "Padestrian_Location    -0.017203  0.091542 -0.068951           -0.151865   \n",
       "Head_Injury             0.139384 -0.009692  0.045781            0.010815   \n",
       "RegistrationValue      -0.009275 -0.003180  0.000305            0.007204   \n",
       "Person_No              -0.004123  0.008242  0.031211            0.028120   \n",
       "\n",
       "                       Hit_by  Padestrian_Caused  Padestrian_Action  \\\n",
       "Person_ID           -0.023675          -0.025056          -0.012675   \n",
       "Crime_No            -0.032109          -0.003648           0.000479   \n",
       "Unit_ID             -0.015944           0.033167           0.046827   \n",
       "Casualty_Type        0.122740          -0.007143          -0.015603   \n",
       "Injury_Type          0.081434          -0.013907          -0.017980   \n",
       "SeatBelt             0.046358           0.042409           0.093298   \n",
       "Helmet              -0.141769          -0.031964          -0.070304   \n",
       "Passenger_Position  -0.048614          -0.070523          -0.154818   \n",
       "Hit_by               1.000000          -0.042480          -0.083120   \n",
       "Padestrian_Caused   -0.042480           1.000000           0.351793   \n",
       "Padestrian_Action   -0.083120           0.351793           1.000000   \n",
       "Padestrian_Location -0.086005           0.334551           0.761307   \n",
       "Head_Injury          0.005576           0.044659           0.034193   \n",
       "RegistrationValue    0.003713          -0.017444          -0.023247   \n",
       "Person_No           -0.028853          -0.004844          -0.001935   \n",
       "\n",
       "                     Padestrian_Location  Head_Injury  RegistrationValue  \\\n",
       "Person_ID                      -0.012254     0.031550          -0.006383   \n",
       "Crime_No                        0.002400     0.036807          -0.005071   \n",
       "Unit_ID                         0.056789    -0.001708           0.001031   \n",
       "Casualty_Type                  -0.015295    -0.035995          -0.001968   \n",
       "Injury_Type                    -0.017203     0.139384          -0.009275   \n",
       "SeatBelt                        0.091542    -0.009692          -0.003180   \n",
       "Helmet                         -0.068951     0.045781           0.000305   \n",
       "Passenger_Position             -0.151865     0.010815           0.007204   \n",
       "Hit_by                         -0.086005     0.005576           0.003713   \n",
       "Padestrian_Caused               0.334551     0.044659          -0.017444   \n",
       "Padestrian_Action               0.761307     0.034193          -0.023247   \n",
       "Padestrian_Location             1.000000     0.029482          -0.024544   \n",
       "Head_Injury                     0.029482     1.000000          -0.003142   \n",
       "RegistrationValue              -0.024544    -0.003142           1.000000   \n",
       "Person_No                       0.000005     0.035652          -0.006230   \n",
       "\n",
       "                     Person_No  \n",
       "Person_ID             0.759279  \n",
       "Crime_No              0.994801  \n",
       "Unit_ID               0.081302  \n",
       "Casualty_Type        -0.016754  \n",
       "Injury_Type          -0.004123  \n",
       "SeatBelt              0.008242  \n",
       "Helmet                0.031211  \n",
       "Passenger_Position    0.028120  \n",
       "Hit_by               -0.028853  \n",
       "Padestrian_Caused    -0.004844  \n",
       "Padestrian_Action    -0.001935  \n",
       "Padestrian_Location   0.000005  \n",
       "Head_Injury           0.035652  \n",
       "RegistrationValue    -0.006230  \n",
       "Person_No             1.000000  "
      ]
     },
     "execution_count": 16,
     "metadata": {},
     "output_type": "execute_result"
    }
   ],
   "source": [
    "a_df.corr()"
   ]
  },
  {
   "cell_type": "code",
   "execution_count": 27,
   "metadata": {
    "collapsed": true
   },
   "outputs": [
    {
     "data": {
      "image/png": "[encoded data removed]",
      "text/plain": [
       "<matplotlib.figure.Figure at 0x7f46bc6e9610>"
      ]
     },
     "metadata": {},
     "output_type": "display_data"
    }
   ],
   "source": [
    "sns.pairplot(copy, vars=['Injury_Type','SeatBelt'], hue='SeatBelt')\n",
    "plt.savefig('Injury vs Seatbelt.png')"
   ]
  },
  {
   "cell_type": "code",
   "execution_count": 23,
   "metadata": {
    "collapsed": true
   },
   "outputs": [
    {
     "data": {
      "text/plain": [
       "<matplotlib.figure.Figure at 0x7f46b8623f50>"
      ]
     },
     "metadata": {},
     "output_type": "display_data"
    }
   ],
   "source": [
    "plt.savefig('corr_plots.png')"
   ]
  },
  {
   "cell_type": "code",
   "execution_count": 21,
   "metadata": {},
   "outputs": [
    {
     "data": {
      "text/plain": [
       "<seaborn.axisgrid.PairGrid at 0x7f46b383ea10>"
      ]
     },
     "execution_count": 21,
     "metadata": {},
     "output_type": "execute_result"
    },
    {
     "data": {
      "image/png": "[encoded data removed]",
      "text/plain": [
       "<matplotlib.figure.Figure at 0x7f46b3781090>"
      ]
     },
     "metadata": {},
     "output_type": "display_data"
    }
   ],
   "source": [
    "sns.set(style='ticks', color_codes=True)\n",
    "sns.pairplot(copy, vars=['Injury_Type','SeatBelt','Padestrian_Location','Padestrian_Caused','Padestrian_Action','Passenger_Position','Casualty_Type'])"
   ]
  },
  {
   "cell_type": "code",
   "execution_count": 28,
   "metadata": {},
   "outputs": [
    {
     "data": {
      "image/png": "[encoded data removed]",
      "text/plain": [
       "<matplotlib.figure.Figure at 0x7f46bbd78110>"
      ]
     },
     "metadata": {},
     "output_type": "display_data"
    }
   ],
   "source": [
    "sns.pairplot(copy, vars=['Padestrian_Location','Padestrian_Action'], hue='Padestrian_Action')\n",
    "plt.savefig('Padestrian loc vs Padestrian action.png')"
   ]
  },
  {
   "cell_type": "code",
   "execution_count": 29,
   "metadata": {},
   "outputs": [
    {
     "name": "stderr",
     "output_type": "stream",
     "text": [
      "/usr/local/lib/python2.7/dist-packages/numpy/core/_methods.py:135: RuntimeWarning: Degrees of freedom <= 0 for slice\n",
      "  keepdims=keepdims)\n",
      "/usr/local/lib/python2.7/dist-packages/numpy/core/_methods.py:127: RuntimeWarning: invalid value encountered in double_scalars\n",
      "  ret = ret.dtype.type(ret / rcount)\n"
     ]
    },
    {
     "data": {
      "image/png": "[encoded data removed]",
      "text/plain": [
       "<matplotlib.figure.Figure at 0x7f46bc5dfe50>"
      ]
     },
     "metadata": {},
     "output_type": "display_data"
    }
   ],
   "source": [
    "sns.pairplot(copy, vars=['Helmet','Passenger_Position'], hue='Helmet')\n",
    "plt.savefig('Helmet vs Passenger pos.png')"
   ]
  },
  {
   "cell_type": "code",
   "execution_count": 30,
   "metadata": {},
   "outputs": [
    {
     "data": {
      "image/png": "[encoded data removed]",
      "text/plain": [
       "<matplotlib.figure.Figure at 0x7f46b33fc2d0>"
      ]
     },
     "metadata": {},
     "output_type": "display_data"
    }
   ],
   "source": [
    "sns.pairplot(copy, vars=['Casualty_Type','SeatBelt'], hue='Casualty_Type')\n",
    "plt.savefig('Casualty type vs Seatbelt.png')"
   ]
  },
  {
   "cell_type": "code",
   "execution_count": 17,
   "metadata": {},
   "outputs": [
    {
     "data": {
      "text/plain": [
       "<matplotlib.axes._subplots.AxesSubplot at 0x7f46c62fb4d0>"
      ]
     },
     "execution_count": 17,
     "metadata": {},
     "output_type": "execute_result"
    },
    {
     "data": {
      "image/png": "[encoded data removed]",
      "text/plain": [
       "<matplotlib.figure.Figure at 0x7f46d6364c50>"
      ]
     },
     "metadata": {},
     "output_type": "display_data"
    }
   ],
   "source": [
    "copy = a_df\n",
    "copy.drop(['Person_ID','Crime_No','Unit_ID','Person_No','RegistrationValue'],axis=1, inplace=True)\n",
    "sns.heatmap(copy.corr())"
   ]
  },
  {
   "cell_type": "code",
   "execution_count": 32,
   "metadata": {},
   "outputs": [],
   "source": [
    "a_df.drop(['Research_Code'],inplace=True, axis=1)"
   ]
  },
  {
   "cell_type": "code",
   "execution_count": 36,
   "metadata": {},
   "outputs": [
    {
     "data": {
      "text/plain": [
       "array(['N'], dtype=object)"
      ]
     },
     "execution_count": 36,
     "metadata": {},
     "output_type": "execute_result"
    }
   ],
   "source": [
    "a_df['Action_Flag'].unique()"
   ]
  },
  {
   "cell_type": "code",
   "execution_count": 41,
   "metadata": {},
   "outputs": [],
   "source": [
    "# a_df.drop(['Action_Flag'], axis=1, inplace=True)\n",
    "a_df['Time'] = a_df['DEDT'].apply(lambda x : x[:-5])\n",
    "a_df['Date'] = a_df['DEDT'].apply(lambda x : x[-5:])"
   ]
  },
  {
   "cell_type": "code",
   "execution_count": 43,
   "metadata": {},
   "outputs": [],
   "source": [
    "a_df.drop(['DEDT'],inplace=True, axis=1)"
   ]
  },
  {
   "cell_type": "code",
   "execution_count": 46,
   "metadata": {},
   "outputs": [
    {
     "data": {
      "text/plain": [
       "(251808, 17)"
      ]
     },
     "execution_count": 46,
     "metadata": {},
     "output_type": "execute_result"
    }
   ],
   "source": [
    "a_df.shape"
   ]
  },
  {
   "cell_type": "code",
   "execution_count": 119,
   "metadata": {},
   "outputs": [
    {
     "data": {
      "text/html": [
       "<div>\n",
       "<style scoped>\n",
       "    .dataframe tbody tr th:only-of-type {\n",
       "        vertical-align: middle;\n",
       "    }\n",
       "\n",
       "    .dataframe tbody tr th {\n",
       "        vertical-align: top;\n",
       "    }\n",
       "\n",
       "    .dataframe thead th {\n",
       "        text-align: right;\n",
       "    }\n",
       "</style>\n",
       "<table border=\"1\" class=\"dataframe\">\n",
       "  <thead>\n",
       "    <tr style=\"text-align: right;\">\n",
       "      <th></th>\n",
       "      <th>Registration_Number</th>\n",
       "      <th>Casualty_Type</th>\n",
       "      <th>Injury_Type</th>\n",
       "      <th>SeatBelt</th>\n",
       "      <th>Helmet</th>\n",
       "      <th>Passenger_Position</th>\n",
       "      <th>Hit_by</th>\n",
       "      <th>Padestrian_Caused</th>\n",
       "      <th>Padestrian_Action</th>\n",
       "      <th>Padestrian_Location</th>\n",
       "      <th>Head_Injury</th>\n",
       "      <th>Injury_Details</th>\n",
       "      <th>Accident_Cause</th>\n",
       "      <th>Negligence_Details</th>\n",
       "      <th>Hospital_Name</th>\n",
       "      <th>Time</th>\n",
       "      <th>Date</th>\n",
       "    </tr>\n",
       "  </thead>\n",
       "  <tbody>\n",
       "    <tr>\n",
       "      <th>0</th>\n",
       "      <td>KA36Y4092</td>\n",
       "      <td>0</td>\n",
       "      <td>0</td>\n",
       "      <td>0</td>\n",
       "      <td>0</td>\n",
       "      <td>0</td>\n",
       "      <td>0</td>\n",
       "      <td>0</td>\n",
       "      <td>0</td>\n",
       "      <td>0</td>\n",
       "      <td>0</td>\n",
       "      <td>&amp;nbsp;</td>\n",
       "      <td>&amp;nbsp;</td>\n",
       "      <td>&amp;nbsp;</td>\n",
       "      <td>empty</td>\n",
       "      <td>5/27/2014</td>\n",
       "      <td>12:13</td>\n",
       "    </tr>\n",
       "    <tr>\n",
       "      <th>2</th>\n",
       "      <td>KA15S0161</td>\n",
       "      <td>1</td>\n",
       "      <td>0</td>\n",
       "      <td>1</td>\n",
       "      <td>1</td>\n",
       "      <td>1</td>\n",
       "      <td>0</td>\n",
       "      <td>0</td>\n",
       "      <td>1</td>\n",
       "      <td>1</td>\n",
       "      <td>1</td>\n",
       "      <td>&amp;nbsp;</td>\n",
       "      <td>&amp;nbsp;</td>\n",
       "      <td>&amp;nbsp;</td>\n",
       "      <td>Sub Division Govt Hospital Sagar</td>\n",
       "      <td>8/3/2014</td>\n",
       "      <td>19:47</td>\n",
       "    </tr>\n",
       "    <tr>\n",
       "      <th>3</th>\n",
       "      <td>KA29-TA3763</td>\n",
       "      <td>2</td>\n",
       "      <td>1</td>\n",
       "      <td>1</td>\n",
       "      <td>1</td>\n",
       "      <td>1</td>\n",
       "      <td>1</td>\n",
       "      <td>0</td>\n",
       "      <td>0</td>\n",
       "      <td>0</td>\n",
       "      <td>0</td>\n",
       "      <td>&amp;nbsp;</td>\n",
       "      <td>&amp;nbsp;</td>\n",
       "      <td>&amp;nbsp;</td>\n",
       "      <td>KUMARESHWAR HPT BGK</td>\n",
       "      <td>1/26/2014</td>\n",
       "      <td>10:21</td>\n",
       "    </tr>\n",
       "    <tr>\n",
       "      <th>4</th>\n",
       "      <td>KA-14-X-7253</td>\n",
       "      <td>0</td>\n",
       "      <td>1</td>\n",
       "      <td>0</td>\n",
       "      <td>0</td>\n",
       "      <td>0</td>\n",
       "      <td>0</td>\n",
       "      <td>0</td>\n",
       "      <td>0</td>\n",
       "      <td>0</td>\n",
       "      <td>0</td>\n",
       "      <td>&amp;nbsp;</td>\n",
       "      <td>&amp;nbsp;</td>\n",
       "      <td>&amp;nbsp;</td>\n",
       "      <td>empty</td>\n",
       "      <td>2/14/2014</td>\n",
       "      <td>13:01</td>\n",
       "    </tr>\n",
       "    <tr>\n",
       "      <th>5</th>\n",
       "      <td>KA32C0883</td>\n",
       "      <td>0</td>\n",
       "      <td>0</td>\n",
       "      <td>0</td>\n",
       "      <td>0</td>\n",
       "      <td>2</td>\n",
       "      <td>2</td>\n",
       "      <td>0</td>\n",
       "      <td>0</td>\n",
       "      <td>0</td>\n",
       "      <td>0</td>\n",
       "      <td>&amp;nbsp;</td>\n",
       "      <td>ಅತಿವೇಗ ಹಾಗೂ ನಿಷ್ಕಾಳಜೀತನದಿಂದ ಚಲಾಯಿಸಿಕೊಂಡು.</td>\n",
       "      <td>&amp;nbsp;</td>\n",
       "      <td>empty</td>\n",
       "      <td>8/16/2014</td>\n",
       "      <td>12:09</td>\n",
       "    </tr>\n",
       "  </tbody>\n",
       "</table>\n",
       "</div>"
      ],
      "text/plain": [
       "  Registration_Number  Casualty_Type  Injury_Type  SeatBelt  Helmet  \\\n",
       "0           KA36Y4092              0            0         0       0   \n",
       "2           KA15S0161              1            0         1       1   \n",
       "3         KA29-TA3763              2            1         1       1   \n",
       "4        KA-14-X-7253              0            1         0       0   \n",
       "5           KA32C0883              0            0         0       0   \n",
       "\n",
       "   Passenger_Position  Hit_by  Padestrian_Caused  Padestrian_Action  \\\n",
       "0                   0       0                  0                  0   \n",
       "2                   1       0                  0                  1   \n",
       "3                   1       1                  0                  0   \n",
       "4                   0       0                  0                  0   \n",
       "5                   2       2                  0                  0   \n",
       "\n",
       "   Padestrian_Location  Head_Injury Injury_Details  \\\n",
       "0                    0            0         &nbsp;   \n",
       "2                    1            1         &nbsp;   \n",
       "3                    0            0         &nbsp;   \n",
       "4                    0            0         &nbsp;   \n",
       "5                    0            0         &nbsp;   \n",
       "\n",
       "                              Accident_Cause Negligence_Details  \\\n",
       "0                                     &nbsp;             &nbsp;   \n",
       "2                                     &nbsp;             &nbsp;   \n",
       "3                                     &nbsp;             &nbsp;   \n",
       "4                                     &nbsp;             &nbsp;   \n",
       "5  ಅತಿವೇಗ ಹಾಗೂ ನಿಷ್ಕಾಳಜೀತನದಿಂದ ಚಲಾಯಿಸಿಕೊಂಡು.             &nbsp;   \n",
       "\n",
       "                      Hospital_Name        Time   Date  \n",
       "0                             empty  5/27/2014   12:13  \n",
       "2  Sub Division Govt Hospital Sagar   8/3/2014   19:47  \n",
       "3               KUMARESHWAR HPT BGK  1/26/2014   10:21  \n",
       "4                             empty  2/14/2014   13:01  \n",
       "5                             empty  8/16/2014   12:09  "
      ]
     },
     "execution_count": 119,
     "metadata": {},
     "output_type": "execute_result"
    }
   ],
   "source": [
    "a_df.head(5)"
   ]
  },
  {
   "cell_type": "code",
   "execution_count": 124,
   "metadata": {},
   "outputs": [],
   "source": [
    "def basic_analysis(a_df=a_df):\n",
    "    \n",
    "    head_injury, helmet = 0,0\n",
    "    for item in a_df['Head_Injury']:\n",
    "        if item!=0:\n",
    "            head_injury +=1\n",
    "    for item in a_df['Helmet']:\n",
    "        if item!=0:\n",
    "            helmet+=1\n",
    "    print \"Head injury, 2 wheelers :\",float(head_injury)*100/float(helmet),\"%\"\n",
    "\n",
    "    sev, injury = 0,0\n",
    "    minor, med = 0,0\n",
    "    for item in a_df['Injury_Type']:\n",
    "        if item==4:\n",
    "            sev+=1\n",
    "        elif item==3:\n",
    "            med+=1\n",
    "        elif item==2:\n",
    "            minor+=1\n",
    "        elif item!=0:\n",
    "            injury +=1\n",
    "    print \"Severe injuries :{}%\".format(float(sev)*100/float(injury))\n",
    "    print \"Moderate injuries {}%\".format(float(med)*100/float(injury))\n",
    "    print \"Minor injuries :{}%\".format(float(minor)*100/float(injury))\n",
    "    print \"Head injury of all injuries : {}%\".format(float(head_injury)*100/float(injury))\n",
    "\n",
    "    \n",
    "    hosp,req = 0,0\n",
    "    a_df['Hospital_Name']= a_df['Hospital_Name'].fillna('empty')\n",
    "    \n",
    "    for item in a_df['Hospital_Name']:\n",
    "        if item!='empty':\n",
    "            hosp+=1\n",
    "        req+=1\n",
    "        \n",
    "    print \"On average, {}% rushed to hospital on accident\".format(float(hosp)*100/float(req))"
   ]
  },
  {
   "cell_type": "code",
   "execution_count": 125,
   "metadata": {},
   "outputs": [
    {
     "name": "stdout",
     "output_type": "stream",
     "text": [
      "Head injury, 2 wheelers : 5.06208911614 %\n",
      "Severe injuries :0.0145966933624%\n",
      "Moderate injuries 3.4788785847%\n",
      "Minor injuries :40.4182439205%\n",
      "Head injury of all injuries : 10.1155085001%\n",
      "On average, 42.5868121744% rushed to hospital on accident\n"
     ]
    }
   ],
   "source": [
    "basic_analysis()"
   ]
  },
  {
   "cell_type": "code",
   "execution_count": 126,
   "metadata": {},
   "outputs": [],
   "source": [
    "a_df.to_csv('processed_df_accident_data.csv')"
   ]
  },
  {
   "cell_type": "code",
   "execution_count": null,
   "metadata": {},
   "outputs": [],
   "source": []
  }
 ],
 "metadata": {
  "kernelspec": {
   "display_name": "Python 2",
   "language": "python",
   "name": "python2"
  },
  "language_info": {
   "codemirror_mode": {
    "name": "ipython",
    "version": 2
   },
   "file_extension": ".py",
   "mimetype": "text/x-python",
   "name": "python",
   "nbconvert_exporter": "python",
   "pygments_lexer": "ipython2",
   "version": "2.7.15rc1"
  }
 },
 "nbformat": 4,
 "nbformat_minor": 2
}

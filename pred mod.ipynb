{
 "cells": [
  {
   "cell_type": "code",
   "execution_count": 31,
   "metadata": {},
   "outputs": [],
   "source": [
    "import numpy as np\n",
    "import pandas as pd\n",
    "import matplotlib.pyplot as plt\n",
    "import seaborn as sns\n",
    "import ast\n",
    "from random import uniform, shuffle\n",
    "import os"
   ]
  },
  {
   "cell_type": "code",
   "execution_count": 32,
   "metadata": {},
   "outputs": [],
   "source": [
    "months = ['Jan','Feb','Mar','Apr','May','Jun','Jul','Aug','Sep','Oct','Nov','Dec']\n",
    "params = ['Alcohol_drugs', 'Wet_Road','Construction','Rain','Traffic','Narrow_Road','Pot_holes',\n",
    "         'Driver_Fault','Bad_lighting','bad_vehicle_gear']"
   ]
  },
  {
   "cell_type": "code",
   "execution_count": 33,
   "metadata": {},
   "outputs": [],
   "source": [
    "probas = [uniform(0,1) for i in range(len(params))]\n",
    "logits = sum(probas)\n",
    "\n",
    "soft_thresh=[float(probas[i])/float(logits) for i in range(len(params))]"
   ]
  },
  {
   "cell_type": "code",
   "execution_count": 34,
   "metadata": {},
   "outputs": [
    {
     "name": "stdout",
     "output_type": "stream",
     "text": [
      "[0.08781523793394641, 0.18178240423922676, 0.3679981039875837, 0.1310300142244336, 0.12433055103249158, 0.4835986039510505, 0.504525121463967, 0.07160192804676924, 0.6161594835643596, 0.5853092106289385] 3.15415065907 [0.027841167853333192, 0.057632758827273575, 0.11667106101259127, 0.04154209116407674, 0.03941807620218158, 0.1533213394737508, 0.1599559361607297, 0.02270085857846062, 0.19534878011993678, 0.1855679306076658]\n"
     ]
    }
   ],
   "source": [
    "print probas, logits, soft_thresh"
   ]
  },
  {
   "cell_type": "code",
   "execution_count": 35,
   "metadata": {},
   "outputs": [],
   "source": [
    "def highest_probas(month, limit=5):\n",
    "    \n",
    "    months = ['Jan','Feb','Mar','Apr','May','Jun','Jul','Aug','Sep','Oct','Nov','Dec']\n",
    "    params = ['Alcohol_drugs', 'Wet_Road','Construction','Rain','Traffic','Narrow_Road','Pot_holes',\n",
    "              'Driver_Fault','Bad_lighting','bad_vehicle_gear']\n",
    "    shuffle(params)\n",
    "    probas = [uniform(0,1) for i in range(len(params))]\n",
    "    logits = sum(probas)\n",
    "    soft_thresh=[float(probas[i])/float(logits) for i in range(len(params))]\n",
    "    \n",
    "    idx = months.index(month)\n",
    "#     print month, idx\n",
    "    list_max = []\n",
    "    for p in params:\n",
    "        inner,val = [],0\n",
    "        for i in range(1,limit+1):\n",
    "            inner.append(params[limit%i])\n",
    "            val+=soft_thresh[params.index(params[limit%i])]\n",
    "            params.pop(params.index(params[limit%i])) #nonrepeating factor\n",
    "        list_max.append([val, inner])\n",
    "#         print inner\n",
    "    \n",
    "    return sorted(list_max)[0]\n",
    "        "
   ]
  },
  {
   "cell_type": "code",
   "execution_count": 41,
   "metadata": {},
   "outputs": [
    {
     "data": {
      "text/plain": [
       "[0.44823158251760015,\n",
       " ['Construction', 'Rain', 'bad_vehicle_gear', 'Bad_lighting']]"
      ]
     },
     "execution_count": 41,
     "metadata": {},
     "output_type": "execute_result"
    }
   ],
   "source": [
    "highest_probas('Jan',4)"
   ]
  },
  {
   "cell_type": "code",
   "execution_count": null,
   "metadata": {},
   "outputs": [],
   "source": []
  }
 ],
 "metadata": {
  "kernelspec": {
   "display_name": "Python 2",
   "language": "python",
   "name": "python2"
  },
  "language_info": {
   "codemirror_mode": {
    "name": "ipython",
    "version": 2
   },
   "file_extension": ".py",
   "mimetype": "text/x-python",
   "name": "python",
   "nbconvert_exporter": "python",
   "pygments_lexer": "ipython2",
   "version": "2.7.15rc1"
  }
 },
 "nbformat": 4,
 "nbformat_minor": 2
}
